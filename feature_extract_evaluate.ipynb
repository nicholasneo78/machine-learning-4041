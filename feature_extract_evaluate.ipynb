{
 "cells": [
  {
   "cell_type": "markdown",
   "id": "endless-repeat",
   "metadata": {},
   "source": [
    "# import necessary library"
   ]
  },
  {
   "cell_type": "code",
   "execution_count": 1,
   "id": "electronic-rocket",
   "metadata": {},
   "outputs": [],
   "source": [
    "# for garbage collection\n",
    "import gc\n",
    "\n",
    "# for warnings\n",
    "import warnings\n",
    "warnings.filterwarnings(\"ignore\")\n",
    "\n",
    "# utility libraries\n",
    "import os\n",
    "import copy\n",
    "import tqdm\n",
    "import numpy as np \n",
    "import pandas as pd \n",
    "import cv2, random, time, shutil, csv\n",
    "import tensorflow as tf \n",
    "import math\n",
    "import time\n",
    "from util import *\n",
    "\n",
    "\n",
    "# keras libraries\n",
    "from tensorflow import keras\n",
    "from tensorflow.keras.preprocessing.image import load_img, ImageDataGenerator\n",
    "from tensorflow.keras.models import Model\n",
    "from tensorflow.keras.layers import BatchNormalization, Dense, GlobalAveragePooling2D, Lambda, Dropout, InputLayer, Input\n",
    "from tensorflow.keras.utils import to_categorical\n",
    "from tensorflow.keras import backend as K"
   ]
  },
  {
   "cell_type": "code",
   "execution_count": 2,
   "id": "outstanding-powell",
   "metadata": {},
   "outputs": [
    {
     "name": "stdout",
     "output_type": "stream",
     "text": [
      "Default GPU Device:/device:GPU:0\n"
     ]
    }
   ],
   "source": [
    "# checking if GPU is being used for training\n",
    "os.environ['TF_FORCE_GPU_ALLOW_GROWTH'] = 'true'\n",
    "if tf.test.gpu_device_name(): \n",
    "    print('Default GPU Device:{}'.format(tf.test.gpu_device_name()))\n",
    "else:\n",
    "    print(\"GPU is not detected\")"
   ]
  },
  {
   "cell_type": "markdown",
   "id": "greenhouse-clark",
   "metadata": {},
   "source": [
    "# prepare of data set\n"
   ]
  },
  {
   "cell_type": "code",
   "execution_count": 3,
   "id": "dated-yukon",
   "metadata": {},
   "outputs": [
    {
     "name": "stdout",
     "output_type": "stream",
     "text": [
      "Shape\t\t: (10222, 2)\n",
      "Unique labels\t: 120\n"
     ]
    }
   ],
   "source": [
    "# loading labels from csv file\n",
    "data_dir = os.path.join(os.getcwd(), 'Datasets')\n",
    "data_df = pd.read_csv(os.path.join(data_dir, 'labels.csv'))\n",
    "breeds = sorted(data_df.breed.unique())\n",
    "\n",
    "print(f\"Shape\\t\\t: {data_df.shape}\")\n",
    "print(f\"Unique labels\\t: {len(breeds)}\")"
   ]
  },
  {
   "cell_type": "code",
   "execution_count": 4,
   "id": "worst-morgan",
   "metadata": {},
   "outputs": [],
   "source": [
    "# hyperparameters\n",
    "img_size = 299"
   ]
  },
  {
   "cell_type": "code",
   "execution_count": 5,
   "id": "material-valuation",
   "metadata": {},
   "outputs": [],
   "source": [
    "# load images data\n",
    "def loadData():\n",
    "    images_list = sorted(os.listdir(os.path.join(data_dir, 'train')))\n",
    "    X = []\n",
    "    Y = []\n",
    "    for image in tqdm.tqdm(images_list):\n",
    "        # find matching label\n",
    "        breed = data_df[data_df['id'] == image[:-4]].iloc[0,1]\n",
    "        breed_index = int(breeds.index(breed)) \n",
    "\n",
    "        # reading image data\n",
    "        image_path = os.path.join(data_dir, 'train', image)\n",
    "        res_image = load_img(image_path, target_size=(img_size, img_size))\n",
    "        res_image = np.asarray(res_image)\n",
    "        X.append(res_image)\n",
    "        Y.append(breed_index)\n",
    "    return X, Y"
   ]
  },
  {
   "cell_type": "code",
   "execution_count": 6,
   "id": "organized-password",
   "metadata": {},
   "outputs": [
    {
     "name": "stderr",
     "output_type": "stream",
     "text": [
      "100%|██████████| 10222/10222 [00:55<00:00, 184.14it/s]\n"
     ]
    },
    {
     "name": "stdout",
     "output_type": "stream",
     "text": [
      "Time taken: 59.395787715911865\n"
     ]
    }
   ],
   "source": [
    "saving_path = os.path.join(data_dir, f'data_resized{img_size}x{img_size}.h5')\n",
    "\n",
    "\n",
    "t = time.time()\n",
    "if (os.path.isfile(saving_path)):\n",
    "    X, Y = load_h5_data(saving_path)\n",
    "else:\n",
    "    X, Y = loadData()\n",
    "    generate_h5_data(X, Y, saving_path)\n",
    "print(f'Time taken: {time.time()-t}')\n"
   ]
  },
  {
   "cell_type": "code",
   "execution_count": 7,
   "id": "linear-village",
   "metadata": {},
   "outputs": [
    {
     "name": "stdout",
     "output_type": "stream",
     "text": [
      "10222 10222\n",
      "(10222, 299, 299, 3) (10222, 1)\n"
     ]
    },
    {
     "data": {
      "text/plain": [
       "71"
      ]
     },
     "execution_count": 7,
     "metadata": {},
     "output_type": "execute_result"
    }
   ],
   "source": [
    "# Converting to arrays\n",
    "print(len(X), len(Y))\n",
    "assert(len(X)==len(Y))\n",
    "Xarr = np.array(X)\n",
    "Yarr = np.array(Y).reshape(-1,1)\n",
    "\n",
    "del(X)\n",
    "print(Xarr.shape, Yarr.shape)\n",
    "gc.collect()"
   ]
  },
  {
   "cell_type": "code",
   "execution_count": 8,
   "id": "dried-azerbaijan",
   "metadata": {},
   "outputs": [
    {
     "name": "stdout",
     "output_type": "stream",
     "text": [
      "\n",
      "Xarr\n",
      "-  shape\t (10222, 299, 299, 3)\n",
      "-  dtype\t uint8\n",
      "- nbytes\t 2741571066 (2.55 GB)\n",
      "\n",
      "Yarr\n",
      "-  shape\t (10222, 1)\n",
      "-  dtype\t int32\n",
      "- nbytes\t 40888 (39.93 KB)\n"
     ]
    }
   ],
   "source": [
    "# print out shape, dtype and data size\n",
    "nparray_info(\"\\nXarr\", Xarr)\n",
    "nparray_info(\"\\nYarr\", Yarr)"
   ]
  },
  {
   "cell_type": "code",
   "execution_count": 9,
   "id": "honey-norman",
   "metadata": {},
   "outputs": [
    {
     "name": "stdout",
     "output_type": "stream",
     "text": [
      "(10222, 299, 299, 3) (10222, 120)\n"
     ]
    }
   ],
   "source": [
    "# converting labels to one hot\n",
    "Yarr_hot = to_categorical(Y)\n",
    "print(Xarr.shape, Yarr_hot.shape)"
   ]
  },
  {
   "cell_type": "markdown",
   "id": "matched-interview",
   "metadata": {},
   "source": [
    "# Feature Extraction"
   ]
  },
  {
   "cell_type": "code",
   "execution_count": 10,
   "id": "ultimate-missouri",
   "metadata": {},
   "outputs": [],
   "source": [
    "# FEATURE EXTRACTION OF TRAINING ARRAYS\n",
    "AUTO = tf.data.experimental.AUTOTUNE\n",
    "def get_features(model_name, data_preprocessor, data):\n",
    "    '''\n",
    "    1- Create a feature extractor to extract features from the data.\n",
    "    2- Returns the extracted features and the feature extractor.\n",
    "\n",
    "    '''\n",
    "    dataset = tf.data.Dataset.from_tensor_slices(data)\n",
    "\n",
    "\n",
    "    def preprocess(x):\n",
    "        x = tf.image.random_flip_left_right(x)\n",
    "        x = tf.image.random_brightness(x, 0.5)\n",
    "        return x\n",
    "\n",
    "    ds = dataset.map(preprocess, num_parallel_calls=AUTO).batch(64)\n",
    "\n",
    "    input_size = data.shape[1:]\n",
    "    #Prepare pipeline.\n",
    "    input_layer = Input(input_size)\n",
    "    preprocessor = Lambda(data_preprocessor)(input_layer)\n",
    "\n",
    "    base_model = model_name(weights='imagenet', include_top=False,\n",
    "                                input_shape=input_size)(preprocessor)\n",
    "\n",
    "    avg = GlobalAveragePooling2D()(base_model)\n",
    "    feature_extractor = Model(inputs = input_layer, outputs = avg)\n",
    "\n",
    "\n",
    "    #Extract feature.\n",
    "    feature_maps = feature_extractor.predict(ds, verbose=1)\n",
    "    nparray_info(\"Feature maps\", feature_maps)\n",
    "    \n",
    "    # deleting variables\n",
    "    del(feature_extractor, base_model, preprocessor, dataset)\n",
    "    gc.collect()\n",
    "    return feature_maps"
   ]
  },
  {
   "cell_type": "code",
   "execution_count": 11,
   "id": "discrete-setup",
   "metadata": {},
   "outputs": [],
   "source": [
    "# FEATURE EXTRACTION OF VALIDAION AND TESTING ARRAYS\n",
    "def get_valfeatures(model_name, data_preprocessor, data):\n",
    "    '''\n",
    "    Same as above except not image augmentations applied.\n",
    "    Used for feature extraction of validation and testing.\n",
    "    '''\n",
    "\n",
    "    dataset = tf.data.Dataset.from_tensor_slices(data)\n",
    "\n",
    "    ds = dataset.batch(64)\n",
    "\n",
    "    input_size = data.shape[1:]\n",
    "    #Prepare pipeline.\n",
    "    input_layer = Input(input_size)\n",
    "    preprocessor = Lambda(data_preprocessor)(input_layer)\n",
    "\n",
    "    base_model = model_name(weights='imagenet', include_top=False, input_shape=input_size)(preprocessor)\n",
    "\n",
    "    avg = GlobalAveragePooling2D()(base_model)\n",
    "    feature_extractor = Model(inputs = input_layer, outputs = avg)\n",
    "    #Extract feature.\n",
    "    feature_maps = feature_extractor.predict(ds, verbose=1)\n",
    "    nparray_info(\"Feature maps\", feature_maps)\n",
    "    return feature_maps"
   ]
  },
  {
   "cell_type": "code",
   "execution_count": null,
   "id": "colored-genetics",
   "metadata": {},
   "outputs": [],
   "source": []
  },
  {
   "cell_type": "code",
   "execution_count": 12,
   "id": "returning-rwanda",
   "metadata": {},
   "outputs": [],
   "source": [
    "def generate_features_data(feats_dict, saving_path=\"./Datasets/feaatures.h5\"):\n",
    "    assert(type(saving_path) is str)\n",
    "    os.makedirs(os.path.dirname(saving_path), exist_ok=True)\n",
    "    try:\n",
    "        with h5py.File(saving_path, 'w') as h5:\n",
    "            for model_name in feats_dict:\n",
    "                print(f\"saving features for {model_name}...\")\n",
    "                h5.create_dataset(model_name, data= feats_dict[model_name])\n",
    "        print(\"features saved\")\n",
    "    except Exception as e:\n",
    "        print(e)\n",
    "        \n",
    "def load_features_data(saving_path=\"./Datasets/feaatures.h5\"):\n",
    "    feats_dict = {}\n",
    "    try:\n",
    "        feats_dict = {}\n",
    "        with h5py.File(saving_path, \"r\") as h5:\n",
    "            #print(\"h5.keys\", h5.keys())\n",
    "            for model_name in h5:\n",
    "                print(f\"loading features for {model_name}...\")\n",
    "                feats_dict[model_name] = h5[model_name][:]\n",
    "        print(\"features loaded\")\n",
    "    except Exception as e:\n",
    "        print(e)\n",
    "    return feats_dict"
   ]
  },
  {
   "cell_type": "code",
   "execution_count": 13,
   "id": "three-savannah",
   "metadata": {},
   "outputs": [],
   "source": [
    "# generate feature dictionary \n",
    "def generate_model_features(feat_func, model_names, models, preprocs, array):\n",
    "    print(f\"Beggining extraction with {feat_func.__name__}\\n\")\n",
    "    feats_dict = {}\n",
    "\n",
    "    for i in range(len(models)):\n",
    "        print(f\"\\nStarting feature extraction with {models[i].__name__} using {preprocs[i].__name__}\\n\")\n",
    "        # applying the above function and storing in list\n",
    "        feats_dict[model_names[i]] = feat_func(models[i], preprocs[i], array)\n",
    "        \n",
    "    # memory saving\n",
    "    del(array)\n",
    "    gc.collect()\n",
    "    return feats_dict"
   ]
  },
  {
   "cell_type": "code",
   "execution_count": 14,
   "id": "searching-medicaid",
   "metadata": {},
   "outputs": [],
   "source": [
    "# RETURNING CONCATENATED FEATURES USING MODELS AND PREPROCESSORS\n",
    "def get_concat_features(model_names, feats_dict):\n",
    "    feats_list = []\n",
    "    \n",
    "    for name in model_names:\n",
    "        print(f\"collect features for {name}...\")\n",
    "        feats_list.append( feats_dict[name] )\n",
    "\n",
    "    # features concatenating\n",
    "    final_feats = np.concatenate(feats_list, axis=-1)\n",
    "    # memory saving\n",
    "    del(feats_list)\n",
    "    gc.collect()\n",
    "    return final_feats"
   ]
  },
  {
   "cell_type": "code",
   "execution_count": 15,
   "id": "cognitive-welsh",
   "metadata": {},
   "outputs": [],
   "source": [
    "# DEFINING models and preprocessors imports\n",
    "from tensorflow.keras.applications.xception import Xception, preprocess_input\n",
    "xception_preprocessor = preprocess_input\n",
    "from tensorflow.keras.applications.densenet import DenseNet169, preprocess_input\n",
    "densenet_preprocessor = preprocess_input\n",
    "from tensorflow.keras.applications.inception_resnet_v2 import InceptionResNetV2, preprocess_input\n",
    "inc_resnet_preprocessor = preprocess_input\n",
    "from tensorflow.keras.applications.mobilenet import MobileNet, preprocess_input \n",
    "mobilenet_preprocessor = preprocess_input\n",
    "from tensorflow.keras.applications.inception_v3 import InceptionV3, preprocess_input\n",
    "inception_preprocessor = preprocess_input\n",
    "from tensorflow.keras.applications.resnet import ResNet50, preprocess_input\n",
    "restnet_preprocessor = preprocess_input\n",
    "\n",
    "\n",
    "# collect top 6 models' feature for evaluation later\n",
    "model_names = [\"Xception\", \"DenseNet169\", \"InceptionResNetV2\", \"MobileNet\", \"InceptionV3\", \"RestNet50\"]\n",
    "models = [Xception, DenseNet169, InceptionResNetV2, MobileNet, InceptionV3, ResNet50 ]\n",
    "preprocs = [xception_preprocessor, densenet_preprocessor, inc_resnet_preprocessor, \n",
    "            mobilenet_preprocessor, inception_preprocessor, restnet_preprocessor]"
   ]
  },
  {
   "cell_type": "code",
   "execution_count": 16,
   "id": "handmade-collectible",
   "metadata": {},
   "outputs": [
    {
     "name": "stdout",
     "output_type": "stream",
     "text": [
      "Beggining extraction with get_features\n",
      "\n",
      "\n",
      "Starting feature extraction with Xception using preprocess_input\n",
      "\n",
      "160/160 [==============================] - 44s 221ms/step\n",
      "Feature maps\n",
      "-  shape\t (10222, 2048)\n",
      "-  dtype\t float32\n",
      "- nbytes\t 83738624 (79.86 MB)\n",
      "\n",
      "Starting feature extraction with DenseNet169 using preprocess_input\n",
      "\n",
      "160/160 [==============================] - 99s 397ms/step\n",
      "Feature maps\n",
      "-  shape\t (10222, 1664)\n",
      "-  dtype\t float32\n",
      "- nbytes\t 68037632 (64.89 MB)\n",
      "\n",
      "Starting feature extraction with InceptionResNetV2 using preprocess_input\n",
      "\n",
      "160/160 [==============================] - 80s 389ms/step\n",
      "Feature maps\n",
      "-  shape\t (10222, 1536)\n",
      "-  dtype\t float32\n",
      "- nbytes\t 62803968 (59.89 MB)\n",
      "\n",
      "Starting feature extraction with MobileNet using preprocess_input\n",
      "\n",
      "WARNING:tensorflow:`input_shape` is undefined or non-square, or `rows` is not in [128, 160, 192, 224]. Weights for input shape (224, 224) will be loaded as the default.\n",
      "160/160 [==============================] - 17s 77ms/step\n",
      "Feature maps\n",
      "-  shape\t (10222, 1024)\n",
      "-  dtype\t float32\n",
      "- nbytes\t 41869312 (39.93 MB)\n",
      "\n",
      "Starting feature extraction with InceptionV3 using preprocess_input\n",
      "\n",
      "160/160 [==============================] - 42s 177ms/step\n",
      "Feature maps\n",
      "-  shape\t (10222, 2048)\n",
      "-  dtype\t float32\n",
      "- nbytes\t 83738624 (79.86 MB)\n",
      "\n",
      "Starting feature extraction with ResNet50 using preprocess_input\n",
      "\n",
      "160/160 [==============================] - 39s 188ms/step\n",
      "Feature maps\n",
      "-  shape\t (10222, 2048)\n",
      "-  dtype\t float32\n",
      "- nbytes\t 83738624 (79.86 MB)\n",
      "saving features for Xception...\n",
      "saving features for DenseNet169...\n",
      "saving features for InceptionResNetV2...\n",
      "saving features for MobileNet...\n",
      "saving features for InceptionV3...\n",
      "saving features for RestNet50...\n",
      "features saved\n",
      "Time taken: 338.9747681617737\n"
     ]
    }
   ],
   "source": [
    "# Perform feature extraction and as h5 file\n",
    "saving_path = os.path.join(data_dir, f'features.h5')\n",
    "\n",
    "t = time.time()\n",
    "# feats_dict = {}\n",
    "if (os.path.isfile(saving_path)):\n",
    "    feats_dict = load_features_data(saving_path)\n",
    "else:\n",
    "    feats_dict = generate_model_features(get_features, model_names, models, preprocs, Xarr)\n",
    "    generate_features_data(feats_dict, saving_path)\n",
    "gc.collect()\n",
    "print(f'Time taken: {time.time()-t}')"
   ]
  },
  {
   "cell_type": "code",
   "execution_count": 17,
   "id": "interim-ethiopia",
   "metadata": {},
   "outputs": [],
   "source": [
    "# for name in feats_dict:\n",
    "#     nparray_info(name, feats_dict[name])"
   ]
  },
  {
   "cell_type": "code",
   "execution_count": null,
   "id": "collaborative-tracy",
   "metadata": {},
   "outputs": [],
   "source": []
  },
  {
   "cell_type": "code",
   "execution_count": 19,
   "id": "assisted-marketing",
   "metadata": {},
   "outputs": [
    {
     "name": "stdout",
     "output_type": "stream",
     "text": [
      "collect features for Xception...\n",
      "collect features for DenseNet169...\n",
      "collect features for InceptionResNetV2...\n",
      "Final feature maps\n",
      "-  shape\t (10222, 5248)\n",
      "-  dtype\t float32\n",
      "- nbytes\t 214580224 (204.64 MB)\n"
     ]
    }
   ],
   "source": [
    "# collect features of from dict\n",
    "train_models = [model_names[i] for i in range(3)]    # can replace range to [0,1,2]\n",
    "final_train_features = get_concat_features(train_models, feats_dict)\n",
    "\n",
    "gc.collect()\n",
    "nparray_info(\"Final feature maps\", final_train_features)"
   ]
  },
  {
   "cell_type": "code",
   "execution_count": 20,
   "id": "collective-richmond",
   "metadata": {},
   "outputs": [],
   "source": [
    "from tensorflow.keras.callbacks import EarlyStopping\n",
    "EarlyStop_callback = keras.callbacks.EarlyStopping(monitor='val_accuracy', patience=10, restore_best_weights=True, verbose=0)\n",
    "\n",
    "my_callback=[EarlyStop_callback]"
   ]
  },
  {
   "cell_type": "code",
   "execution_count": 21,
   "id": "coastal-press",
   "metadata": {},
   "outputs": [
    {
     "name": "stdout",
     "output_type": "stream",
     "text": [
      "\n",
      "Starting fold 1\n",
      "\n",
      "Training...\n",
      "Evaluating model ...\n",
      "107/107 [==============================] - 0s 2ms/step - loss: 0.3092 - accuracy: 0.8994\n",
      "213/213 [==============================] - 0s 2ms/step - loss: 0.1012 - accuracy: 0.9748\n"
     ]
    },
    {
     "data": {
      "image/png": "[encoded data removed]",
      "text/plain": [
       "<Figure size 1152x432 with 2 Axes>"
      ]
     },
     "metadata": {},
     "output_type": "display_data"
    },
    {
     "name": "stdout",
     "output_type": "stream",
     "text": [
      "\n",
      "Starting fold 2\n",
      "\n",
      "Training...\n",
      "Evaluating model ...\n",
      "107/107 [==============================] - 0s 2ms/step - loss: 0.3583 - accuracy: 0.8902\n",
      "213/213 [==============================] - 0s 2ms/step - loss: 0.0629 - accuracy: 0.9865\n"
     ]
    },
    {
     "data": {
      "image/png": "[encoded data removed]",
      "text/plain": [
       "<Figure size 1152x432 with 2 Axes>"
      ]
     },
     "metadata": {},
     "output_type": "display_data"
    },
    {
     "name": "stdout",
     "output_type": "stream",
     "text": [
      "\n",
      "Starting fold 3\n",
      "\n",
      "Training...\n",
      "Evaluating model ...\n",
      "107/107 [==============================] - 0s 2ms/step - loss: 0.3433 - accuracy: 0.9026\n",
      "213/213 [==============================] - 0s 2ms/step - loss: 0.0327 - accuracy: 0.9949\n"
     ]
    },
    {
     "data": {
      "image/png": "[encoded data removed]",
      "text/plain": [
       "<Figure size 1152x432 with 2 Axes>"
      ]
     },
     "metadata": {},
     "output_type": "display_data"
    },
    {
     "name": "stdout",
     "output_type": "stream",
     "text": [
      "\n",
      " CV Score -\n",
      "\n",
      "TrainAccuracy - 0.9853741725285848\n",
      "\n",
      "TrainLoss - 0.06559303775429726\n",
      "\n",
      "ValAccuracy - 0.8973780075709025\n",
      "\n",
      "ValLoss - 0.3369273642698924\n"
     ]
    }
   ],
   "source": [
    "from sklearn.model_selection import StratifiedKFold\n",
    "\n",
    "splits = list(StratifiedKFold(n_splits=3, shuffle=True, random_state=10).split(final_train_features, Y))\n",
    "\n",
    "trained_models = []\n",
    "val_accuracy = []\n",
    "val_losses = []\n",
    "train_accuracy = []\n",
    "train_losses = []\n",
    "\n",
    "#Prepare And Train DNN model\n",
    "for i, (train_idx, valid_idx) in enumerate(splits): \n",
    "\n",
    "    print(f\"\\nStarting fold {i+1}\\n\")\n",
    "    x_train_fold = final_train_features[train_idx, :]\n",
    "    y_train_fold = Yarr_hot[train_idx, :]\n",
    "    x_val_fold = final_train_features[valid_idx]\n",
    "    y_val_fold = Yarr_hot[valid_idx, :]\n",
    "\n",
    "    dnn = keras.models.Sequential([\n",
    "        InputLayer(final_train_features.shape[1:]),\n",
    "        Dropout(0.7),\n",
    "        Dense(120, activation='softmax')\n",
    "    ])\n",
    "\n",
    "    dnn.compile(optimizer='adam',\n",
    "                loss='categorical_crossentropy',\n",
    "                metrics=['accuracy'])\n",
    "\n",
    "    print(\"Training...\")\n",
    "    #Train simple DNN on extracted features.\n",
    "    h = dnn.fit(x_train_fold, y_train_fold,\n",
    "                batch_size=128,\n",
    "                epochs=80,\n",
    "                verbose=0,\n",
    "                validation_data = (x_val_fold, y_val_fold),\n",
    "                callbacks=my_callback)  # max 95.07\n",
    "    print(\"Evaluating model ...\")\n",
    "    model_res_val = dnn.evaluate(x_val_fold, y_val_fold)\n",
    "    model_res_train = dnn.evaluate(x_train_fold, y_train_fold)\n",
    "    train_accuracy.append(model_res_train[1])\n",
    "    train_losses.append(model_res_train[0])\n",
    "    val_accuracy.append(model_res_val[1])\n",
    "    val_losses.append(model_res_val[0])\n",
    "    trained_models.append(dnn)\n",
    "    plot_model_history(h, saving_name=f\"fold_{i+1}_LA\")\n",
    "    \n",
    "\n",
    "print('\\n CV Score -')\n",
    "print(f\"\\nTrainAccuracy - {sum(train_accuracy)/len(train_accuracy)}\")\n",
    "print(f\"\\nTrainLoss - {sum(train_losses)/len(train_losses)}\")\n",
    "print(f\"\\nValAccuracy - {sum(val_accuracy)/len(val_accuracy)}\")\n",
    "print(f\"\\nValLoss - {sum(val_losses)/len(val_losses)}\")\n"
   ]
  },
  {
   "cell_type": "code",
   "execution_count": 22,
   "id": "capital-shame",
   "metadata": {},
   "outputs": [],
   "source": [
    "# # TEST IMAGES\n",
    "# test_images_list = sorted(os.listdir(os.path.join(data_dir, 'test')))\n",
    "# X = []\n",
    "# i = 0\n",
    "# for image in tqdm.tqdm(test_images_list):\n",
    "\n",
    "#     image_path = os.path.join(data_dir, 'test',image)\n",
    "#     orig_image = cv2.cvtColor(cv2.imread(image_path), cv2.COLOR_BGR2RGB)\n",
    "#     res_image = cv2.resize(orig_image,(img_size, img_size))\n",
    "#     X.append(res_image)\n",
    "#     i+=1\n",
    "\n",
    "# Xtesarr = np.array(X)\n",
    "\n",
    "# del(X)\n",
    "# gc.collect()\n",
    "\n",
    "# Xtesarr.shape"
   ]
  },
  {
   "cell_type": "code",
   "execution_count": 23,
   "id": "packed-subject",
   "metadata": {},
   "outputs": [],
   "source": [
    "# # FEATURE EXTRACTION OF TEST IMAGES\n",
    "# test_features = get_concat_features(get_valfeatures, models, preprocs, Xtesarr)\n",
    "\n",
    "# del(Xtesarr)\n",
    "# gc.collect()\n",
    "# print('Final feature maps shape', test_features.shape)"
   ]
  },
  {
   "cell_type": "code",
   "execution_count": 24,
   "id": "acquired-repository",
   "metadata": {},
   "outputs": [],
   "source": [
    "# y_pred_norm = trained_models[0].predict(test_features, batch_size=128)/3\n",
    "# for dnn in trained_models[1:]:\n",
    "#     y_pred_norm += dnn.predict(test_features, batch_size=128)/3\n",
    "\n",
    "# y_pred_norm.shape\n",
    "\n",
    "# df.iloc[:, 1:] = y_pred_norm\n",
    "# df.to_csv('submission.csv')\n"
   ]
  },
  {
   "cell_type": "code",
   "execution_count": null,
   "id": "combined-growth",
   "metadata": {},
   "outputs": [],
   "source": []
  }
 ],
 "metadata": {
  "kernelspec": {
   "display_name": "Python 3",
   "language": "python",
   "name": "python3"
  },
  "language_info": {
   "codemirror_mode": {
    "name": "ipython",
    "version": 3
   },
   "file_extension": ".py",
   "mimetype": "text/x-python",
   "name": "python",
   "nbconvert_exporter": "python",
   "pygments_lexer": "ipython3",
   "version": "3.8.5"
  }
 },
 "nbformat": 4,
 "nbformat_minor": 5
}
