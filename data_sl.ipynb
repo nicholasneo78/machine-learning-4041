{
 "cells": [
  {
   "cell_type": "code",
   "execution_count": 1,
   "id": "conservative-reliance",
   "metadata": {},
   "outputs": [],
   "source": [
    "import numpy as np\n",
    "import pandas as pd\n",
    "import glob\n",
    "import h5py\n",
    "import os\n",
    "import cv2\n",
    "import math\n",
    "import time\n",
    "from tensorflow.keras.preprocessing.image import load_img, img_to_array"
   ]
  },
  {
   "cell_type": "markdown",
   "id": "wicked-repeat",
   "metadata": {},
   "source": [
    "# Data type evaluation\n",
    "* [numpy.iinfo()](https://numpy.org/doc/stable/reference/generated/numpy.iinfo.html)\n",
    "* [numpy.finfo()](https://numpy.org/doc/stable/reference/generated/numpy.finfo.html)"
   ]
  },
  {
   "cell_type": "code",
   "execution_count": 2,
   "id": "basic-mouse",
   "metadata": {},
   "outputs": [
    {
     "name": "stdout",
     "output_type": "stream",
     "text": [
      "float info\n",
      "- bits\t\t 8 bits\n",
      "- range\t\t 0 to 255\n"
     ]
    }
   ],
   "source": [
    "intInfo = np.iinfo(np.uint8)\n",
    "print(\"float info\")\n",
    "print(\"- bits\\t\\t\", f\"{intInfo.bits} bits\")\n",
    "print(\"- range\\t\\t\",f\"{intInfo.min} to {intInfo.max}\")"
   ]
  },
  {
   "cell_type": "code",
   "execution_count": 3,
   "id": "final-delay",
   "metadata": {},
   "outputs": [
    {
     "name": "stdout",
     "output_type": "stream",
     "text": [
      "float info\n",
      "- bits\t\t 16 bits\n",
      "- range\t\t -65504.0 to 65504.0\n",
      "- precision\t 3 decimal digits \n"
     ]
    }
   ],
   "source": [
    "# ref: \n",
    "floatInfo = np.finfo(np.float16)\n",
    "print(\"float info\")\n",
    "print(\"- bits\\t\\t\", f\"{floatInfo.bits} bits\")\n",
    "print(\"- range\\t\\t\",f\"{floatInfo.min} to {floatInfo.max}\")\n",
    "print(\"- precision\\t\",f\"{floatInfo.precision} decimal digits \"  )"
   ]
  },
  {
   "cell_type": "markdown",
   "id": "unavailable-carroll",
   "metadata": {},
   "source": [
    "# loading data into np.array "
   ]
  },
  {
   "cell_type": "code",
   "execution_count": 4,
   "id": "desperate-shakespeare",
   "metadata": {},
   "outputs": [
    {
     "name": "stdout",
     "output_type": "stream",
     "text": [
      "Shape\t\t: (10222, 3)\n",
      "Unique labels\t: 120\n"
     ]
    }
   ],
   "source": [
    "# loading labels from csv file\n",
    "df = pd.read_csv(\"Datasets/labels.csv\")\n",
    "\n",
    "# create dictionary of unique breeds with its respective id\n",
    "breeds = df.breed.unique()\n",
    "dict_breeds = dict(zip(breeds, range(len(breeds))))\n",
    "\n",
    "# add duplicate column\n",
    "df[\"breed_id\"] = df.breed\n",
    "# convert duplicated column as unique id\n",
    "df = df.replace({\"breed_id\":dict_breeds})\n",
    "\n",
    "print(\"Shape\\t\\t: {}\".format(df.shape))\n",
    "print(\"Unique labels\\t: {}\".format(len(breeds)))"
   ]
  },
  {
   "cell_type": "code",
   "execution_count": 5,
   "id": "single-bridal",
   "metadata": {},
   "outputs": [],
   "source": [
    "# hyperparameters \n",
    "EPOCHS = 50\n",
    "LR = 1e-3\n",
    "BATCH_SIZE = 32\n",
    "INPUT_SHAPE = (64,64,3)"
   ]
  },
  {
   "cell_type": "code",
   "execution_count": 6,
   "id": "northern-muslim",
   "metadata": {},
   "outputs": [
    {
     "name": "stdout",
     "output_type": "stream",
     "text": [
      "10222 files found!\n",
      "loading images\n",
      "Time taken to load images: 42.19877624511719\n",
      "pre-processing\n",
      "Time taken to pre-processing: 1.398768663406372\n",
      "x_data shape: (10222, 64, 64, 3)\n",
      "y_data shape: (10222, 1)\n"
     ]
    }
   ],
   "source": [
    "data = []\n",
    "labels = []\n",
    "\n",
    "# collect all files from directory into a list\n",
    "image_files_train = [f for f in glob.glob(\"Datasets/train\" + \"/**/*\", recursive=True) if not os.path.isdir(f)]\n",
    "print(\"{} files found!\".format(len(image_files_train)))\n",
    "\n",
    "# create groud-truth label from the image path\n",
    "print(\"loading images\")\n",
    "t = time.time()\n",
    "for img in image_files_train:\n",
    "    img_file = os.path.basename(img)\n",
    "    name = img_file.split(\".\")[0]\n",
    "\n",
    "    # check if image file has a record in given labels\n",
    "    result = df.loc[df['id'] == name]\n",
    "    if result.empty:\n",
    "        print(\"LABEL NOT FOUND: {}\".format(name))\n",
    "        continue\n",
    "    else:\n",
    "        # reading of image \n",
    "        image = cv2.imread(img)\n",
    "        image = cv2.resize(image, (INPUT_SHAPE[0], INPUT_SHAPE[1]))\n",
    "        image = img_to_array(image)\n",
    "        data.append(image)\n",
    "        # read respective unique breed id from result \n",
    "        label = result['breed_id'].iloc[0]\n",
    "        labels.append([label])\n",
    "print(f'Time taken to load images: {time.time()-t}')\n",
    "\n",
    "# pre-processing (normalisation)\n",
    "print(\"pre-processing\")\n",
    "t = time.time()\n",
    "data = np.array(data, dtype=np.float16) / 255.0\n",
    "labels = np.array(labels, dtype=np.uint8)\n",
    "print(f'Time taken to pre-processing: {time.time()-t}')\n",
    "\n",
    "print('x_data shape:', data.shape)\n",
    "print('y_data shape:', labels.shape)"
   ]
  },
  {
   "cell_type": "code",
   "execution_count": 7,
   "id": "funded-jacksonville",
   "metadata": {},
   "outputs": [],
   "source": [
    "def convert_size(size_bytes):\n",
    "    if size_bytes == 0:\n",
    "        return \"0B\"\n",
    "    size_name = (\"B\", \"KB\", \"MB\", \"GB\", \"TB\", \"PB\", \"EB\", \"ZB\", \"YB\")\n",
    "    i = int(math.floor(math.log(size_bytes, 1024)))\n",
    "    p = math.pow(1024, i)\n",
    "    s = round(size_bytes / p, 2)\n",
    "    return \"%s %s\" % (s, size_name[i])\n",
    "\n",
    "def nparray_info(header, nparr):\n",
    "    print(header)\n",
    "    print(\"-  shape\\t\", nparr.shape)\n",
    "    print(\"-  dtype\\t\", nparr.dtype)\n",
    "    print(\"- nbytes\\t\", f\"{nparr.nbytes} ({convert_size(nparr.nbytes)})\")\n",
    "    "
   ]
  },
  {
   "cell_type": "code",
   "execution_count": 8,
   "id": "qualified-potter",
   "metadata": {},
   "outputs": [
    {
     "name": "stdout",
     "output_type": "stream",
     "text": [
      "Images\n",
      "-  shape\t (10222, 64, 64, 3)\n",
      "-  dtype\t float16\n",
      "- nbytes\t 251215872 (239.58 MB)\n",
      "\n",
      "Labels\n",
      "-  shape\t (10222, 1)\n",
      "-  dtype\t uint8\n",
      "- nbytes\t 10222 (9.98 KB)\n"
     ]
    }
   ],
   "source": [
    "# print out shape, dtype and data size\n",
    "nparray_info(\"Images\", data)\n",
    "print()\n",
    "nparray_info(\"Labels\", labels)"
   ]
  },
  {
   "cell_type": "markdown",
   "id": "advance-psychology",
   "metadata": {},
   "source": [
    "### loading and saving with .npz\n",
    "* [np.save()](https://numpy.org/doc/stable/reference/generated/numpy.save.html)\n",
    "* [np.savez()](https://numpy.org/doc/stable/reference/generated/numpy.savez.html)\n",
    "* [np.savez_compressed()](https://numpy.org/doc/stable/reference/generated/numpy.savez_compressed.html)\n",
    "* [np.lib.format](https://numpy.org/doc/stable/reference/generated/numpy.lib.format.html)\n",
    "\n",
    "\n",
    "\n"
   ]
  },
  {
   "cell_type": "code",
   "execution_count": 9,
   "id": "federal-falls",
   "metadata": {},
   "outputs": [
    {
     "name": "stdout",
     "output_type": "stream",
     "text": [
      "Loading saving to npz file\n",
      "Time taken to save compressed data: 23.279183864593506\n"
     ]
    }
   ],
   "source": [
    "saving_path = \"./Datasets/preprocessed_data_{}x{}.npz\".format(INPUT_SHAPE[0], INPUT_SHAPE[1])\n",
    "\n",
    "print(\"Loading saving to npz file\")\n",
    "# ensure director is created before save data file\n",
    "os.makedirs(os.path.dirname(saving_path), exist_ok=True)\n",
    "t = time.time()\n",
    "np.savez_compressed(saving_path, X=data, Y=labels)\n",
    "print(f'Time taken to save compressed data: {time.time()-t}')"
   ]
  },
  {
   "cell_type": "code",
   "execution_count": 10,
   "id": "simplified-chair",
   "metadata": {},
   "outputs": [
    {
     "name": "stdout",
     "output_type": "stream",
     "text": [
      "Loading from npz file\n",
      "['X', 'Y']\n",
      "Time taken to load compressed data: 1.7265007495880127\n"
     ]
    }
   ],
   "source": [
    "print(\"Loading from npz file\")\n",
    "t = time.time()\n",
    "loaded = np.load(saving_path)\n",
    "print(loaded.files)\n",
    "loaded_X = loaded[\"X\"]\n",
    "loaded_Y = loaded[\"Y\"]\n",
    "print(f'Time taken to load compressed data: {time.time()-t}')"
   ]
  },
  {
   "cell_type": "code",
   "execution_count": 11,
   "id": "august-enforcement",
   "metadata": {},
   "outputs": [
    {
     "name": "stdout",
     "output_type": "stream",
     "text": [
      "Images (npz)\n",
      "-  shape\t (10222, 64, 64, 3)\n",
      "-  dtype\t float16\n",
      "- nbytes\t 251215872 (239.58 MB)\n",
      "\n",
      "Labels (npz)\n",
      "-  shape\t (10222, 1)\n",
      "-  dtype\t uint8\n",
      "- nbytes\t 10222 (9.98 KB)\n"
     ]
    }
   ],
   "source": [
    "# print out shape, dtype and data size\n",
    "nparray_info(\"Images (npz)\", loaded_X)\n",
    "print()\n",
    "nparray_info(\"Labels (npz)\", loaded_Y)"
   ]
  },
  {
   "cell_type": "code",
   "execution_count": 12,
   "id": "spoken-blues",
   "metadata": {},
   "outputs": [],
   "source": [
    "# ensure correctness of data\n",
    "assert labels.dtype == loaded_Y.dtype\n",
    "assert (labels==loaded_Y).all()\n",
    "\n",
    "\n",
    "assert data.dtype == loaded_X.dtype\n",
    "assert np.allclose(data, loaded_X)\n",
    "assert (data==loaded_X).all()"
   ]
  },
  {
   "cell_type": "markdown",
   "id": "hearing-bryan",
   "metadata": {},
   "source": [
    "### loading and saving with h5 format\n",
    "* [h5py.creating-datasets()](https://docs.h5py.org/en/stable/high/dataset.html#creating-datasets)\n",
    "* [lossless compression](https://docs.h5py.org/en/stable/high/dataset.html#lossless-compression-filters)\n",
    "\n"
   ]
  },
  {
   "cell_type": "code",
   "execution_count": 13,
   "id": "jewish-genesis",
   "metadata": {},
   "outputs": [],
   "source": [
    "def generate_h5_data(data, labels, file_path=\"./Datasets/data.h5\"):\n",
    "    assert(type(file_path) is str)\n",
    "    assert(len(data) == len(labels))\n",
    "    \n",
    "    os.makedirs(os.path.dirname(saving_path), exist_ok=True)\n",
    "    try:\n",
    "        with h5py.File(file_path, 'w') as h5:\n",
    "            h5.create_dataset('image', data= data, compression=\"gzip\", compression_opts=9)\n",
    "            h5.create_dataset('label', data= labels)\n",
    "    except Exception as e:\n",
    "        print(e)\n",
    "    \n",
    "\n",
    "def load_h5_data(file_path):\n",
    "    try:\n",
    "        with h5py.File(file_path, \"r\") as h5:\n",
    "            print(\"h5.keys\", h5.keys())\n",
    "            data = np.array(h5['image'][:])\n",
    "            labels = np.array(h5['label'][:])\n",
    "        print(\"The shape of x_field\",data.shape)\n",
    "        print(\"The shape of y_field\",labels.shape)\n",
    "    except Exception as e:\n",
    "        print(e)\n",
    "    return data, labels"
   ]
  },
  {
   "cell_type": "code",
   "execution_count": 14,
   "id": "persistent-campus",
   "metadata": {},
   "outputs": [
    {
     "name": "stdout",
     "output_type": "stream",
     "text": [
      "Time taken to save compressed data: 20.961398124694824\n"
     ]
    }
   ],
   "source": [
    "saving_path = \"./Datasets/preprocessed_data_{}x{}.h5\".format(INPUT_SHAPE[0], INPUT_SHAPE[1])\n",
    "\n",
    "t = time.time()\n",
    "generate_h5_data(data, labels, saving_path)\n",
    "print(f'Time taken to save compressed data: {time.time()-t}')"
   ]
  },
  {
   "cell_type": "code",
   "execution_count": 15,
   "id": "developmental-vector",
   "metadata": {},
   "outputs": [
    {
     "name": "stdout",
     "output_type": "stream",
     "text": [
      "loading from h5 file\n",
      "h5.keys <KeysViewHDF5 ['image', 'label']>\n",
      "The shape of x_field (10222, 64, 64, 3)\n",
      "The shape of y_field (10222, 1)\n",
      "Time taken to load compressed data: 2.5167882442474365\n"
     ]
    }
   ],
   "source": [
    "print(\"loading from h5 file\")\n",
    "t = time.time()\n",
    "loaded_X, loaded_Y = load_h5_data(saving_path)\n",
    "print(f'Time taken to load compressed data: {time.time()-t}')"
   ]
  },
  {
   "cell_type": "code",
   "execution_count": 16,
   "id": "bound-personality",
   "metadata": {},
   "outputs": [
    {
     "name": "stdout",
     "output_type": "stream",
     "text": [
      "Images (h5)\n",
      "-  shape\t (10222, 64, 64, 3)\n",
      "-  dtype\t float16\n",
      "- nbytes\t 251215872 (239.58 MB)\n",
      "\n",
      "Labels (h5)\n",
      "-  shape\t (10222, 1)\n",
      "-  dtype\t uint8\n",
      "- nbytes\t 10222 (9.98 KB)\n"
     ]
    }
   ],
   "source": [
    "# print out shape, dtype and data size\n",
    "nparray_info(\"Images (h5)\", loaded_X)\n",
    "print()\n",
    "nparray_info(\"Labels (h5)\", loaded_Y)"
   ]
  },
  {
   "cell_type": "code",
   "execution_count": 17,
   "id": "bizarre-immunology",
   "metadata": {},
   "outputs": [],
   "source": [
    "# ensure correctness of data\n",
    "assert labels.dtype == loaded_Y.dtype\n",
    "assert (labels==loaded_Y).all()\n",
    "\n",
    "\n",
    "assert data.dtype == loaded_X.dtype\n",
    "assert np.allclose(data, loaded_X)\n",
    "assert (data==loaded_X).all()"
   ]
  }
 ],
 "metadata": {
  "kernelspec": {
   "display_name": "Python 3",
   "language": "python",
   "name": "python3"
  },
  "language_info": {
   "codemirror_mode": {
    "name": "ipython",
    "version": 3
   },
   "file_extension": ".py",
   "mimetype": "text/x-python",
   "name": "python",
   "nbconvert_exporter": "python",
   "pygments_lexer": "ipython3",
   "version": "3.8.5"
  }
 },
 "nbformat": 4,
 "nbformat_minor": 5
}
