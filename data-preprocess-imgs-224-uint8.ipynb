{
 "cells": [
  {
   "cell_type": "code",
   "execution_count": null,
   "metadata": {},
   "outputs": [],
   "source": [
    "import numpy as np\n",
    "import pandas as pd\n",
    "import glob\n",
    "import h5py\n",
    "import os\n",
    "import cv2\n",
    "import math\n",
    "import time\n",
    "import matplotlib.pyplot as plt\n",
    "from tensorflow.keras.preprocessing.image import load_img, img_to_array\n",
    "from tensorflow.keras.utils import to_categorical\n",
    "\n",
    "from tqdm import tqdm"
   ]
  },
  {
   "cell_type": "markdown",
   "metadata": {},
   "source": [
    "# Data type evaluation\n",
    "* [numpy.iinfo()](https://numpy.org/doc/stable/reference/generated/numpy.iinfo.html)\n",
    "* [numpy.finfo()](https://numpy.org/doc/stable/reference/generated/numpy.finfo.html)"
   ]
  },
  {
   "cell_type": "code",
   "execution_count": null,
   "metadata": {},
   "outputs": [],
   "source": [
    "intInfo = np.iinfo(np.uint8)\n",
    "print(\"float info\")\n",
    "print(\"- bits\\t\\t\", f\"{intInfo.bits} bits\")\n",
    "print(\"- range\\t\\t\",f\"{intInfo.min} to {intInfo.max}\")"
   ]
  },
  {
   "cell_type": "code",
   "execution_count": null,
   "metadata": {},
   "outputs": [],
   "source": [
    "# ref: \n",
    "floatInfo = np.finfo(np.float16)\n",
    "print(\"float info\")\n",
    "print(\"- bits\\t\\t\", f\"{floatInfo.bits} bits\")\n",
    "print(\"- range\\t\\t\",f\"{floatInfo.min} to {floatInfo.max}\")\n",
    "print(\"- precision\\t\",f\"{floatInfo.precision} decimal digits \"  )"
   ]
  },
  {
   "cell_type": "markdown",
   "metadata": {},
   "source": [
    "# loading data into np.array "
   ]
  },
  {
   "cell_type": "code",
   "execution_count": null,
   "metadata": {},
   "outputs": [],
   "source": [
    "# loading labels from csv file\n",
    "df = pd.read_csv(\"Datasets/labels.csv\")\n",
    "\n",
    "# create dictionary of unique breeds with its respective id\n",
    "# sort the list as required by evaluation on the test set\n",
    "breeds = sorted(df.breed.unique())\n",
    "dict_breeds = dict(zip(breeds, range(len(breeds))))\n",
    "\n",
    "# add duplicate column\n",
    "df[\"breed_id\"] = df.breed\n",
    "# convert duplicated column as unique id\n",
    "df = df.replace({\"breed_id\":dict_breeds})\n",
    "\n",
    "print(\"Shape\\t\\t: {}\".format(df.shape))\n",
    "print(\"Unique labels\\t: {}\".format(len(breeds)))"
   ]
  },
  {
   "cell_type": "code",
   "execution_count": null,
   "metadata": {},
   "outputs": [],
   "source": [
    "# check if dictionary is in order\n",
    "dict_breeds"
   ]
  },
  {
   "cell_type": "code",
   "execution_count": null,
   "metadata": {},
   "outputs": [],
   "source": [
    "# to make sure the breed_id has already been sorted to alphabetical order\n",
    "df.head()"
   ]
  },
  {
   "cell_type": "code",
   "execution_count": null,
   "metadata": {},
   "outputs": [],
   "source": [
    "INPUT_SHAPE = (224,224,3)"
   ]
  },
  {
   "cell_type": "code",
   "execution_count": null,
   "metadata": {},
   "outputs": [],
   "source": [
    "data = []\n",
    "labels = []\n",
    "\n",
    "# collect all files from directory into a list\n",
    "image_files_train = [f for f in glob.glob(\"Datasets/train\" + \"/**/*\", recursive=True) if not os.path.isdir(f)]\n",
    "print(\"{} files found!\".format(len(image_files_train)))\n",
    "\n",
    "# create groud-truth label from the image path\n",
    "print(\"loading images\")\n",
    "t = time.time()\n",
    "for img in tqdm(image_files_train):\n",
    "    img_file = os.path.basename(img)\n",
    "    name = img_file.split(\".\")[0]\n",
    "\n",
    "    # check if image file has a record in given labels\n",
    "    result = df.loc[df['id'] == name]\n",
    "    if result.empty:\n",
    "        print(\"LABEL NOT FOUND: {}\".format(name))\n",
    "        continue\n",
    "    else:\n",
    "        # reading of image \n",
    "        #image = cv2.imread(img)\n",
    "        #image = cv2.resize(image, (INPUT_SHAPE[0], INPUT_SHAPE[1]))\n",
    "        #image = img_to_array(image)\n",
    "        image_ = load_img(img,target_size=(INPUT_SHAPE[0], INPUT_SHAPE[1]))\n",
    "        image = np.asarray(image_)\n",
    "        data.append(image)\n",
    "        \n",
    "        # read respective unique breed id from result \n",
    "        label = result['breed_id'].iloc[0]\n",
    "        labels.append([label])\n",
    "# one-hot the to categorical\n",
    "labels = to_categorical(labels)       \n",
    "print(f'Time taken to load images: {time.time()-t}')\n",
    "\n",
    "# pre-processing (normalisation)\n",
    "print(\"pre-processing\")\n",
    "t = time.time()\n",
    "# convert data type to uint8 and do preprocessing later\n",
    "data = np.array(data, dtype=np.uint8) #/ 255.0\n",
    "labels = np.array(labels, dtype=np.uint8)\n",
    "print(f'Time taken to pre-processing: {time.time()-t}')\n",
    "\n",
    "print('x_data shape:', data.shape)\n",
    "print('y_data shape:', labels.shape)"
   ]
  },
  {
   "cell_type": "code",
   "execution_count": null,
   "metadata": {
    "scrolled": true
   },
   "outputs": [],
   "source": [
    "data[50]"
   ]
  },
  {
   "cell_type": "code",
   "execution_count": null,
   "metadata": {},
   "outputs": [],
   "source": [
    "labels[50]"
   ]
  },
  {
   "cell_type": "code",
   "execution_count": null,
   "metadata": {},
   "outputs": [],
   "source": [
    "def convert_size(size_bytes):\n",
    "    if size_bytes == 0:\n",
    "        return \"0B\"\n",
    "    size_name = (\"B\", \"KB\", \"MB\", \"GB\", \"TB\", \"PB\", \"EB\", \"ZB\", \"YB\")\n",
    "    i = int(math.floor(math.log(size_bytes, 1024)))\n",
    "    p = math.pow(1024, i)\n",
    "    s = round(size_bytes / p, 2)\n",
    "    return \"%s %s\" % (s, size_name[i])\n",
    "\n",
    "def nparray_info(header, nparr):\n",
    "    print(header)\n",
    "    print(\"-  shape\\t\", nparr.shape)\n",
    "    print(\"-  dtype\\t\", nparr.dtype)\n",
    "    print(\"- nbytes\\t\", f\"{nparr.nbytes} ({convert_size(nparr.nbytes)})\")\n",
    "    "
   ]
  },
  {
   "cell_type": "code",
   "execution_count": null,
   "metadata": {},
   "outputs": [],
   "source": [
    "# print out shape, dtype and data size\n",
    "nparray_info(\"Images\", data)\n",
    "print()\n",
    "nparray_info(\"Labels\", labels)"
   ]
  },
  {
   "cell_type": "code",
   "execution_count": null,
   "metadata": {},
   "outputs": [],
   "source": []
  },
  {
   "cell_type": "markdown",
   "metadata": {},
   "source": [
    "### loading and saving with .npz\n",
    "* [np.save()](https://numpy.org/doc/stable/reference/generated/numpy.save.html)\n",
    "* [np.savez()](https://numpy.org/doc/stable/reference/generated/numpy.savez.html)\n",
    "* [np.savez_compressed()](https://numpy.org/doc/stable/reference/generated/numpy.savez_compressed.html)\n",
    "* [np.lib.format](https://numpy.org/doc/stable/reference/generated/numpy.lib.format.html)\n",
    "\n",
    "\n",
    "\n"
   ]
  },
  {
   "cell_type": "code",
   "execution_count": null,
   "metadata": {},
   "outputs": [],
   "source": [
    "# saving\n",
    "saving_path = \"./Datasets/preprocessed_data_u{}x{}.npz\".format(INPUT_SHAPE[0], INPUT_SHAPE[1])"
   ]
  },
  {
   "cell_type": "code",
   "execution_count": null,
   "metadata": {},
   "outputs": [],
   "source": [
    "print(\"Saving to npz file\")\n",
    "# ensure directory is created before save data file\n",
    "os.makedirs(os.path.dirname(saving_path), exist_ok=True)\n",
    "t = time.time()\n",
    "np.savez_compressed(saving_path, X=data, Y=labels)\n",
    "print(f'Time taken to save compressed data: {time.time()-t}')"
   ]
  },
  {
   "cell_type": "code",
   "execution_count": null,
   "metadata": {},
   "outputs": [],
   "source": [
    "# test the loading of npz file\n",
    "print(\"Loading from npz file\")\n",
    "t = time.time()\n",
    "loaded = np.load(saving_path)\n",
    "print(loaded.files)\n",
    "loaded_X = loaded[\"X\"]\n",
    "loaded_Y = loaded[\"Y\"]\n",
    "print(f'Time taken to load compressed data: {time.time()-t}')"
   ]
  },
  {
   "cell_type": "code",
   "execution_count": null,
   "metadata": {},
   "outputs": [],
   "source": [
    "# print out shape, dtype and data size\n",
    "nparray_info(\"Images (npz)\", loaded_X)\n",
    "print()\n",
    "nparray_info(\"Labels (npz)\", loaded_Y)"
   ]
  },
  {
   "cell_type": "code",
   "execution_count": null,
   "metadata": {},
   "outputs": [],
   "source": [
    "# ensure correctness of data\n",
    "assert labels.dtype == loaded_Y.dtype\n",
    "assert (labels==loaded_Y).all()\n",
    "\n",
    "\n",
    "assert data.dtype == loaded_X.dtype\n",
    "assert np.allclose(data, loaded_X)\n",
    "assert (data==loaded_X).all()"
   ]
  },
  {
   "cell_type": "code",
   "execution_count": null,
   "metadata": {},
   "outputs": [],
   "source": [
    "loaded_Y[50]"
   ]
  },
  {
   "cell_type": "code",
   "execution_count": null,
   "metadata": {},
   "outputs": [],
   "source": [
    "# check the data\n",
    "N = 20\n",
    "\n",
    "plt.figure(figsize=(20,20))\n",
    "for i in range(N):\n",
    "    ax = plt.subplot(int(N/5),5,i+1)\n",
    "    plt.title(breeds[np.where(loaded_Y[i]==1)[0][0]])\n",
    "    plt.imshow(loaded_X[i].astype('float32'))"
   ]
  },
  {
   "cell_type": "code",
   "execution_count": null,
   "metadata": {},
   "outputs": [],
   "source": []
  },
  {
   "cell_type": "code",
   "execution_count": null,
   "metadata": {},
   "outputs": [],
   "source": []
  },
  {
   "cell_type": "code",
   "execution_count": null,
   "metadata": {},
   "outputs": [],
   "source": []
  },
  {
   "cell_type": "markdown",
   "metadata": {},
   "source": [
    "## Do likewise for the test dataset but w/o any label"
   ]
  },
  {
   "cell_type": "code",
   "execution_count": null,
   "metadata": {},
   "outputs": [],
   "source": [
    "#INPUT_SHAPE = (128,128,3)\n",
    "#INPUT_SHAPE = (192,192,3)\n",
    "INPUT_SHAPE = (224,224,3)"
   ]
  },
  {
   "cell_type": "code",
   "execution_count": null,
   "metadata": {},
   "outputs": [],
   "source": [
    "data_test = []\n",
    "\n",
    "# collect all files from directory into a list\n",
    "image_files_test = [f for f in glob.glob(\"Datasets/test\" + \"/**/*\", recursive=True) if not os.path.isdir(f)]\n",
    "print(\"{} files found!\".format(len(image_files_test)))\n",
    "\n",
    "# create groud-truth label from the image path\n",
    "print(\"loading images\")\n",
    "t = time.time()\n",
    "for img in tqdm(image_files_test):\n",
    "    img_file = os.path.basename(img)\n",
    "    name = img_file.split(\".\")[0]\n",
    "\n",
    "    image_ = load_img(img,target_size=(INPUT_SHAPE[0], INPUT_SHAPE[1]))\n",
    "    image = np.asarray(image_)\n",
    "    data_test.append(image)\n",
    "     \n",
    "print(f'Time taken to load images: {time.time()-t}')\n",
    "\n",
    "# pre-processing (normalisation)\n",
    "print(\"pre-processing\")\n",
    "t = time.time()\n",
    "data_test = np.array(data_test, dtype=np.float16) / 255.0\n",
    "#labels = np.array(labels, dtype=np.uint8)\n",
    "print(f'Time taken to pre-processing: {time.time()-t}')\n",
    "\n",
    "print('x_data shape:', data_test.shape)\n",
    "#print('y_data shape:', labels.shape)"
   ]
  },
  {
   "cell_type": "code",
   "execution_count": null,
   "metadata": {
    "scrolled": true
   },
   "outputs": [],
   "source": [
    "data_test[50]"
   ]
  },
  {
   "cell_type": "code",
   "execution_count": null,
   "metadata": {},
   "outputs": [],
   "source": [
    "# print out shape, dtype and data size\n",
    "nparray_info(\"Images\", data_test)"
   ]
  },
  {
   "cell_type": "markdown",
   "metadata": {},
   "source": [
    "### loading and saving with .npz\n",
    "* [np.save()](https://numpy.org/doc/stable/reference/generated/numpy.save.html)\n",
    "* [np.savez()](https://numpy.org/doc/stable/reference/generated/numpy.savez.html)\n",
    "* [np.savez_compressed()](https://numpy.org/doc/stable/reference/generated/numpy.savez_compressed.html)\n",
    "* [np.lib.format](https://numpy.org/doc/stable/reference/generated/numpy.lib.format.html)"
   ]
  },
  {
   "cell_type": "code",
   "execution_count": null,
   "metadata": {},
   "outputs": [],
   "source": [
    "# saving\n",
    "saving_path = \"./Datasets/preprocessed_data_test_{}x{}.npz\".format(INPUT_SHAPE[0], INPUT_SHAPE[1])\n",
    "\n",
    "print(\"Saving to npz file\")\n",
    "# ensure directory is created before save data file\n",
    "os.makedirs(os.path.dirname(saving_path), exist_ok=True)\n",
    "t = time.time()\n",
    "np.savez_compressed(saving_path, X=data_test)\n",
    "print(f'Time taken to save compressed data: {time.time()-t}')"
   ]
  },
  {
   "cell_type": "code",
   "execution_count": null,
   "metadata": {},
   "outputs": [],
   "source": [
    "# test the loading of npz file\n",
    "print(\"Loading from npz file\")\n",
    "t = time.time()\n",
    "loaded = np.load(saving_path)\n",
    "print(loaded.files)\n",
    "loaded_X_test = loaded[\"X\"]\n",
    "print(f'Time taken to load compressed data: {time.time()-t}')"
   ]
  },
  {
   "cell_type": "code",
   "execution_count": null,
   "metadata": {},
   "outputs": [],
   "source": [
    "# print out shape, dtype and data size\n",
    "nparray_info(\"Images (npz)\", loaded_X_test)"
   ]
  },
  {
   "cell_type": "code",
   "execution_count": null,
   "metadata": {},
   "outputs": [],
   "source": [
    "# ensure correctness of data\n",
    "assert data_test.dtype == loaded_X_test.dtype\n",
    "assert np.allclose(data_test, loaded_X_test)\n",
    "assert (data_test==loaded_X_test).all()"
   ]
  },
  {
   "cell_type": "code",
   "execution_count": null,
   "metadata": {},
   "outputs": [],
   "source": [
    "loaded_X_test[50][0]"
   ]
  },
  {
   "cell_type": "code",
   "execution_count": null,
   "metadata": {},
   "outputs": [],
   "source": [
    "# check the data\n",
    "N = 20\n",
    "\n",
    "plt.figure(figsize=(20,20))\n",
    "for i in range(N):\n",
    "    ax = plt.subplot(int(N/5),5,i+1)\n",
    "    plt.imshow(loaded_X_test[i].astype('float32'))"
   ]
  },
  {
   "cell_type": "code",
   "execution_count": null,
   "metadata": {},
   "outputs": [],
   "source": []
  }
 ],
 "metadata": {
  "kernelspec": {
   "display_name": "Python 3",
   "language": "python",
   "name": "python3"
  },
  "language_info": {
   "codemirror_mode": {
    "name": "ipython",
    "version": 3
   },
   "file_extension": ".py",
   "mimetype": "text/x-python",
   "name": "python",
   "nbconvert_exporter": "python",
   "pygments_lexer": "ipython3",
   "version": "3.7.7"
  }
 },
 "nbformat": 4,
 "nbformat_minor": 5
}
