{
  "nbformat": 4,
  "nbformat_minor": 0,
  "metadata": {
    "colab": {
      "name": "training-general-224.ipynb",
      "provenance": [],
      "collapsed_sections": []
    },
    "kernelspec": {
      "name": "python3",
      "display_name": "Python 3"
    },
    "language_info": {
      "name": "python"
    },
    "accelerator": "GPU"
  },
  "cells": [
    {
      "cell_type": "markdown",
      "metadata": {
        "id": "Phd8gCE_5qCM"
      },
      "source": [
        "### Importing the relevant libraries"
      ]
    },
    {
      "cell_type": "code",
      "metadata": {
        "colab": {
          "base_uri": "https://localhost:8080/"
        },
        "id": "SySBgztT5g8q",
        "outputId": "610b9a23-d939-474e-ff54-63e0cc89911c"
      },
      "source": [
        "# connect to google colab\n",
        "from google.colab import drive\n",
        "drive.mount(\"/content/drive\")"
      ],
      "execution_count": null,
      "outputs": [
        {
          "output_type": "stream",
          "text": [
            "Mounted at /content/drive\n"
          ],
          "name": "stdout"
        }
      ]
    },
    {
      "cell_type": "code",
      "metadata": {
        "id": "Cppkt4pN5w9d"
      },
      "source": [
        "# import all the necessary model\n",
        "import numpy as np\n",
        "import pandas as pd\n",
        "import matplotlib.pyplot as plt\n",
        "# import seaborn as sns\n",
        "import os\n",
        "import gc\n",
        "from sklearn.model_selection import train_test_split\n",
        "from tqdm import tqdm\n",
        "import math\n",
        "\n",
        "import tensorflow as tf\n",
        "from tensorflow.keras.utils import to_categorical\n",
        "from tensorflow.keras.callbacks import ReduceLROnPlateau, ModelCheckpoint, EarlyStopping\n",
        "from tensorflow.keras.optimizers import Adam, SGD\n",
        "from tensorflow.keras import Sequential\n",
        "from tensorflow.keras.layers import Flatten, Dense, BatchNormalization, Activation, Dropout, Lambda, Input, GlobalAveragePooling2D, BatchNormalization, Conv2D, MaxPooling2D\n",
        "from tensorflow.keras.preprocessing.image import ImageDataGenerator, load_img\n",
        "# from keras import regularizers\n",
        "from tensorflow.keras.models import Model, load_model\n",
        "\n",
        "from IPython.display import display, Image\n",
        "import time"
      ],
      "execution_count": null,
      "outputs": []
    },
    {
      "cell_type": "code",
      "metadata": {
        "id": "ccvbwEpV59k7"
      },
      "source": [
        "# change colab flag to false if train using jupyter notebook else set to true if using colab\n",
        "COLAB_FLAG = True\n",
        "\n",
        "COLAB_FILEPATH = './drive/My Drive/4041-dog-breed-classification/' if COLAB_FLAG == True else './'\n",
        "%matplotlib inline"
      ],
      "execution_count": null,
      "outputs": []
    },
    {
      "cell_type": "code",
      "metadata": {
        "id": "qK_hzb0H6ATh",
        "colab": {
          "base_uri": "https://localhost:8080/"
        },
        "outputId": "5ab7826d-8b8e-4afc-cae5-010acdbf500b"
      },
      "source": [
        "# checking if GPU is being used for training\n",
        "os.environ['TF_FORCE_GPU_ALLOW_GROWTH'] = 'true'\n",
        "if tf.test.gpu_device_name(): \n",
        "    print('Default GPU Device:{}'.format(tf.test.gpu_device_name()))\n",
        "else:\n",
        "    print(\"GPU is not detected\")"
      ],
      "execution_count": null,
      "outputs": [
        {
          "output_type": "stream",
          "text": [
            "Default GPU Device:/device:GPU:0\n"
          ],
          "name": "stdout"
        }
      ]
    },
    {
      "cell_type": "markdown",
      "metadata": {
        "id": "nBjOE4SY6Yp3"
      },
      "source": [
        "## Import the numpy (.npz) file consisting our training images\n",
        "* [np.save()](https://numpy.org/doc/stable/reference/generated/numpy.save.html)\n",
        "* [np.savez()](https://numpy.org/doc/stable/reference/generated/numpy.savez.html)\n",
        "* [np.savez_compressed()](https://numpy.org/doc/stable/reference/generated/numpy.savez_compressed.html)\n",
        "* [np.lib.format](https://numpy.org/doc/stable/reference/generated/numpy.lib.format.html)"
      ]
    },
    {
      "cell_type": "code",
      "metadata": {
        "colab": {
          "base_uri": "https://localhost:8080/"
        },
        "id": "KbOpSoPl6Vwr",
        "outputId": "9a854eb4-2319-4ce0-cdfc-e63a02836239"
      },
      "source": [
        "INPUT_SHAPE = (224,224,3)\n",
        "NPZ_PATH = f'{COLAB_FILEPATH}Datasets/preprocessed_data_{INPUT_SHAPE[0]}x{INPUT_SHAPE[1]}.npz'\n",
        "print(NPZ_PATH)"
      ],
      "execution_count": null,
      "outputs": [
        {
          "output_type": "stream",
          "text": [
            "./drive/My Drive/4041-dog-breed-classification/Datasets/preprocessed_data_224x224.npz\n"
          ],
          "name": "stdout"
        }
      ]
    },
    {
      "cell_type": "code",
      "metadata": {
        "id": "-NeqHiuv6gKB"
      },
      "source": [
        "# check the numpy array information and the size conversion\n",
        "def convert_size(size_bytes):\n",
        "    if size_bytes == 0:\n",
        "        return \"0B\"\n",
        "    size_name = (\"B\", \"KB\", \"MB\", \"GB\", \"TB\", \"PB\", \"EB\", \"ZB\", \"YB\")\n",
        "    i = int(math.floor(math.log(size_bytes, 1024)))\n",
        "    p = math.pow(1024, i)\n",
        "    s = round(size_bytes / p, 2)\n",
        "    return \"%s %s\" % (s, size_name[i])\n",
        "\n",
        "def nparray_info(header, nparr):\n",
        "    print(header)\n",
        "    print(\"-  shape\\t\", nparr.shape)\n",
        "    print(\"-  dtype\\t\", nparr.dtype)\n",
        "    print(\"- nbytes\\t\", f\"{nparr.nbytes} ({convert_size(nparr.nbytes)})\")"
      ],
      "execution_count": null,
      "outputs": []
    },
    {
      "cell_type": "code",
      "metadata": {
        "colab": {
          "base_uri": "https://localhost:8080/"
        },
        "id": "Q_KlTtu76lw5",
        "outputId": "8fabbdf9-0782-4c1e-dad9-6224367aff5a"
      },
      "source": [
        "# loading the npz file\n",
        "print(\"Loading from npz file\")\n",
        "t = time.time()\n",
        "loaded = np.load(NPZ_PATH)\n",
        "print(loaded.files)\n",
        "loaded_X = loaded[\"X\"]\n",
        "loaded_Y = loaded[\"Y\"]\n",
        "del loaded\n",
        "gc.collect()\n",
        "\n",
        "print(f'Time taken to load compressed data: {time.time()-t}')"
      ],
      "execution_count": null,
      "outputs": [
        {
          "output_type": "stream",
          "text": [
            "Loading from npz file\n",
            "['X', 'Y']\n",
            "Time taken to load compressed data: 40.00015950202942\n"
          ],
          "name": "stdout"
        }
      ]
    },
    {
      "cell_type": "code",
      "metadata": {
        "colab": {
          "base_uri": "https://localhost:8080/"
        },
        "id": "CbTtoraS6oV4",
        "outputId": "992c4bbe-d6ed-4e0a-871d-001ceb3c5af5"
      },
      "source": [
        "# print out shape, dtype and data size\n",
        "nparray_info(\"Images (npz)\", loaded_X)\n",
        "print()\n",
        "nparray_info(\"Labels (npz)\", loaded_Y)"
      ],
      "execution_count": null,
      "outputs": [
        {
          "output_type": "stream",
          "text": [
            "Images (npz)\n",
            "-  shape\t (10222, 224, 224, 3)\n",
            "-  dtype\t uint8\n",
            "- nbytes\t 1538697216 (1.43 GB)\n",
            "\n",
            "Labels (npz)\n",
            "-  shape\t (10222, 120)\n",
            "-  dtype\t uint8\n",
            "- nbytes\t 1226640 (1.17 MB)\n"
          ],
          "name": "stdout"
        }
      ]
    },
    {
      "cell_type": "code",
      "metadata": {
        "colab": {
          "base_uri": "https://localhost:8080/"
        },
        "id": "BZbGlDmH6zgp",
        "outputId": "b201d886-8934-4211-8afe-e0835bccc73a"
      },
      "source": [
        "# get the respective labels\n",
        "# loading labels from csv file\n",
        "df = pd.read_csv(f\"{COLAB_FILEPATH}Datasets/labels.csv\")\n",
        "\n",
        "# create dictionary of unique breeds with its respective id\n",
        "breeds = sorted(df.breed.unique())\n",
        "dict_breeds = dict(zip(breeds, range(len(breeds))))\n",
        "\n",
        "# add duplicate column\n",
        "df[\"breed_id\"] = df.breed\n",
        "# convert duplicated column as unique id\n",
        "df = df.replace({\"breed_id\":dict_breeds})\n",
        "\n",
        "print(\"Shape\\t\\t: {}\".format(df.shape))\n",
        "print(\"Unique labels\\t: {}\".format(len(breeds)))"
      ],
      "execution_count": null,
      "outputs": [
        {
          "output_type": "stream",
          "text": [
            "Shape\t\t: (10222, 3)\n",
            "Unique labels\t: 120\n"
          ],
          "name": "stdout"
        }
      ]
    },
    {
      "cell_type": "code",
      "metadata": {
        "colab": {
          "base_uri": "https://localhost:8080/"
        },
        "id": "ydkq3XSW63EZ",
        "outputId": "6f2eb8d3-3a98-48ae-cfbb-c1442a9c6d12"
      },
      "source": [
        "dict_breeds"
      ],
      "execution_count": null,
      "outputs": [
        {
          "output_type": "execute_result",
          "data": {
            "text/plain": [
              "{'affenpinscher': 0,\n",
              " 'afghan_hound': 1,\n",
              " 'african_hunting_dog': 2,\n",
              " 'airedale': 3,\n",
              " 'american_staffordshire_terrier': 4,\n",
              " 'appenzeller': 5,\n",
              " 'australian_terrier': 6,\n",
              " 'basenji': 7,\n",
              " 'basset': 8,\n",
              " 'beagle': 9,\n",
              " 'bedlington_terrier': 10,\n",
              " 'bernese_mountain_dog': 11,\n",
              " 'black-and-tan_coonhound': 12,\n",
              " 'blenheim_spaniel': 13,\n",
              " 'bloodhound': 14,\n",
              " 'bluetick': 15,\n",
              " 'border_collie': 16,\n",
              " 'border_terrier': 17,\n",
              " 'borzoi': 18,\n",
              " 'boston_bull': 19,\n",
              " 'bouvier_des_flandres': 20,\n",
              " 'boxer': 21,\n",
              " 'brabancon_griffon': 22,\n",
              " 'briard': 23,\n",
              " 'brittany_spaniel': 24,\n",
              " 'bull_mastiff': 25,\n",
              " 'cairn': 26,\n",
              " 'cardigan': 27,\n",
              " 'chesapeake_bay_retriever': 28,\n",
              " 'chihuahua': 29,\n",
              " 'chow': 30,\n",
              " 'clumber': 31,\n",
              " 'cocker_spaniel': 32,\n",
              " 'collie': 33,\n",
              " 'curly-coated_retriever': 34,\n",
              " 'dandie_dinmont': 35,\n",
              " 'dhole': 36,\n",
              " 'dingo': 37,\n",
              " 'doberman': 38,\n",
              " 'english_foxhound': 39,\n",
              " 'english_setter': 40,\n",
              " 'english_springer': 41,\n",
              " 'entlebucher': 42,\n",
              " 'eskimo_dog': 43,\n",
              " 'flat-coated_retriever': 44,\n",
              " 'french_bulldog': 45,\n",
              " 'german_shepherd': 46,\n",
              " 'german_short-haired_pointer': 47,\n",
              " 'giant_schnauzer': 48,\n",
              " 'golden_retriever': 49,\n",
              " 'gordon_setter': 50,\n",
              " 'great_dane': 51,\n",
              " 'great_pyrenees': 52,\n",
              " 'greater_swiss_mountain_dog': 53,\n",
              " 'groenendael': 54,\n",
              " 'ibizan_hound': 55,\n",
              " 'irish_setter': 56,\n",
              " 'irish_terrier': 57,\n",
              " 'irish_water_spaniel': 58,\n",
              " 'irish_wolfhound': 59,\n",
              " 'italian_greyhound': 60,\n",
              " 'japanese_spaniel': 61,\n",
              " 'keeshond': 62,\n",
              " 'kelpie': 63,\n",
              " 'kerry_blue_terrier': 64,\n",
              " 'komondor': 65,\n",
              " 'kuvasz': 66,\n",
              " 'labrador_retriever': 67,\n",
              " 'lakeland_terrier': 68,\n",
              " 'leonberg': 69,\n",
              " 'lhasa': 70,\n",
              " 'malamute': 71,\n",
              " 'malinois': 72,\n",
              " 'maltese_dog': 73,\n",
              " 'mexican_hairless': 74,\n",
              " 'miniature_pinscher': 75,\n",
              " 'miniature_poodle': 76,\n",
              " 'miniature_schnauzer': 77,\n",
              " 'newfoundland': 78,\n",
              " 'norfolk_terrier': 79,\n",
              " 'norwegian_elkhound': 80,\n",
              " 'norwich_terrier': 81,\n",
              " 'old_english_sheepdog': 82,\n",
              " 'otterhound': 83,\n",
              " 'papillon': 84,\n",
              " 'pekinese': 85,\n",
              " 'pembroke': 86,\n",
              " 'pomeranian': 87,\n",
              " 'pug': 88,\n",
              " 'redbone': 89,\n",
              " 'rhodesian_ridgeback': 90,\n",
              " 'rottweiler': 91,\n",
              " 'saint_bernard': 92,\n",
              " 'saluki': 93,\n",
              " 'samoyed': 94,\n",
              " 'schipperke': 95,\n",
              " 'scotch_terrier': 96,\n",
              " 'scottish_deerhound': 97,\n",
              " 'sealyham_terrier': 98,\n",
              " 'shetland_sheepdog': 99,\n",
              " 'shih-tzu': 100,\n",
              " 'siberian_husky': 101,\n",
              " 'silky_terrier': 102,\n",
              " 'soft-coated_wheaten_terrier': 103,\n",
              " 'staffordshire_bullterrier': 104,\n",
              " 'standard_poodle': 105,\n",
              " 'standard_schnauzer': 106,\n",
              " 'sussex_spaniel': 107,\n",
              " 'tibetan_mastiff': 108,\n",
              " 'tibetan_terrier': 109,\n",
              " 'toy_poodle': 110,\n",
              " 'toy_terrier': 111,\n",
              " 'vizsla': 112,\n",
              " 'walker_hound': 113,\n",
              " 'weimaraner': 114,\n",
              " 'welsh_springer_spaniel': 115,\n",
              " 'west_highland_white_terrier': 116,\n",
              " 'whippet': 117,\n",
              " 'wire-haired_fox_terrier': 118,\n",
              " 'yorkshire_terrier': 119}"
            ]
          },
          "metadata": {
            "tags": []
          },
          "execution_count": 15
        }
      ]
    },
    {
      "cell_type": "code",
      "metadata": {
        "colab": {
          "base_uri": "https://localhost:8080/",
          "height": 791
        },
        "id": "eTT3Vs0M65SB",
        "outputId": "ff7746d0-bedd-43d7-9d41-6af9d0ac898c"
      },
      "source": [
        "# check the data\n",
        "N = 20\n",
        "\n",
        "plt.figure(figsize=(20,20))\n",
        "for i in range(N):\n",
        "    ax = plt.subplot(int(N/5),5,i+1)\n",
        "    plt.title(breeds[np.where(loaded_Y[i]==1)[0][0]])\n",
        "    if loaded_X.dtype==np.uint8:\n",
        "        plt.imshow(loaded_X[i])\n",
        "    else:\n",
        "        plt.imshow(loaded_X[i].astype('float32'))"
      ],
      "execution_count": null,
      "outputs": []
    },
    {
      "cell_type": "code",
      "metadata": {
        "id": "H9WhQkQi7Aba"
      },
      "source": [
        ""
      ],
      "execution_count": null,
      "outputs": []
    },
    {
      "cell_type": "code",
      "metadata": {
        "id": "dj9rKBrU7DWS"
      },
      "source": [
        ""
      ],
      "execution_count": null,
      "outputs": []
    },
    {
      "cell_type": "markdown",
      "metadata": {
        "id": "uSx1DucQ7Dqi"
      },
      "source": [
        "### Split data into train and validation"
      ]
    },
    {
      "cell_type": "code",
      "metadata": {
        "id": "ld5K3VS27GyI"
      },
      "source": [
        "# perform train test split to get training and validation data\n",
        "X_train, X_val, y_train, y_val = train_test_split(loaded_X, loaded_Y, train_size=0.8,random_state=42)"
      ],
      "execution_count": null,
      "outputs": []
    },
    {
      "cell_type": "code",
      "metadata": {
        "id": "g8Pa1t4O7KDq"
      },
      "source": [
        "del loaded_X\n",
        "del loaded_Y"
      ],
      "execution_count": null,
      "outputs": []
    },
    {
      "cell_type": "code",
      "metadata": {
        "id": "H72r63eE7L2q"
      },
      "source": [
        ""
      ],
      "execution_count": null,
      "outputs": []
    },
    {
      "cell_type": "markdown",
      "metadata": {
        "id": "c39ZOflp7Nla"
      },
      "source": [
        "### Image Augmentation"
      ]
    },
    {
      "cell_type": "code",
      "metadata": {
        "id": "NP79aTR47PVR"
      },
      "source": [
        "# this is the augmentation configuration we will use for training\n",
        "train_datagen = ImageDataGenerator(\n",
        "    shear_range=0.2,\n",
        "    zoom_range=0.2,\n",
        "    horizontal_flip=True,\n",
        "    fill_mode = \"nearest\"\n",
        ")"
      ],
      "execution_count": null,
      "outputs": []
    },
    {
      "cell_type": "code",
      "metadata": {
        "id": "Y7RNsNyP7Q1i"
      },
      "source": [
        ""
      ],
      "execution_count": null,
      "outputs": []
    },
    {
      "cell_type": "markdown",
      "metadata": {
        "id": "yQaxXXJ97RiC"
      },
      "source": [
        "### Model Building"
      ]
    },
    {
      "cell_type": "markdown",
      "metadata": {
        "id": "qwAjgBxJ7dM6"
      },
      "source": [
        "Helper Function"
      ]
    },
    {
      "cell_type": "code",
      "metadata": {
        "id": "8L_sPdlB7b0x"
      },
      "source": [
        "# for plotting\n",
        "def plot_model_history(history, folder=COLAB_FILEPATH+\"plots/\", saving_name=\"model_loss_accuracy\"):\n",
        "    plt.style.use(\"ggplot\")\n",
        "    plt.figure(figsize=(16, 6))\n",
        "\n",
        "    # plot for loss\n",
        "    ax = plt.subplot(1, 2, 1)\n",
        "    # ensure ploting never plot beyond 10\n",
        "    #y_max = (max(history.history[\"loss\"]), max(history.history[\"val_loss\"]))\n",
        "    #y_max = min(10.0, max(y_max))\n",
        "    #ax.set_ylim(ymax=y_max)\n",
        "    plt.plot( history.history[\"loss\"], label=\"train_loss\")\n",
        "    plt.plot( history.history[\"val_loss\"], label=\"val_loss\")\n",
        "\n",
        "    plt.title(f\"Model Loss - {saving_name}\")\n",
        "    plt.xlabel(\"Epoch #\")\n",
        "    plt.ylabel(\"Loss\")\n",
        "    plt.legend(loc=\"upper right\")\n",
        "\n",
        "    # plot for accuracy\n",
        "    ax = plt.subplot(1, 2, 2)\n",
        "    ax.set_ylim([0,1]) # fix y-range for eazy comparison \n",
        "    plt.plot(history.history[\"accuracy\"], label=\"train_acc\")\n",
        "    plt.plot(history.history[\"val_accuracy\"], label=\"val_acc\")\n",
        "\n",
        "    plt.title(f\"Model Accuracy - {saving_name}\")\n",
        "    plt.xlabel(\"Epoch #\")\n",
        "    plt.ylabel(\"Accuracy\")\n",
        "    plt.legend(loc=\"upper left\")\n",
        "\n",
        "    # save plot to disk\n",
        "    os.makedirs(os.path.dirname(folder), exist_ok=True)\n",
        "    plt.savefig(folder+saving_name+'.jpg')\n",
        "    plt.show()\n",
        "\n",
        "def plot_learning_rate(history, folder=\"plots/\", saving_name=\"model_learn_rate\"):\n",
        "    # history only contain lr when lrScheduler used \n",
        "    #assert('lr' in history.history.keys()), \"model history does not contain lr, ensure lr related callback is used\"\n",
        "    \n",
        "    # the learning rate schedule\n",
        "    plt.style.use(\"ggplot\")\n",
        "    plt.figure(figsize=(8, 6))\n",
        "    plt.plot( history.history[\"lr\"], label=\"learn rate\")\n",
        "    plt.title(\"Learning Rate\")\n",
        "    plt.xlabel(\"Epoch #\")\n",
        "    plt.ylabel(\"Learning Rate\")\n",
        "    # save plot to disk\n",
        "    os.makedirs(os.path.dirname(folder), exist_ok=True)\n",
        "    plt.savefig(folder+saving_name)\n",
        "    plt.show()"
      ],
      "execution_count": null,
      "outputs": []
    },
    {
      "cell_type": "code",
      "metadata": {
        "id": "q8MQ7dng7iUh"
      },
      "source": [
        "# function to train the model\n",
        "def train_model(model_name,pre_trained_model,batch_size,epochs,lr,optimizer,input_shape=INPUT_SHAPE,Xtrain=X_train,Xval=X_val,ytrain=y_train,yval=y_val):\n",
        "    # initialise saved weights filename\n",
        "    filename = f'{model_name}_{input_shape[0]}x{input_shape[1]}_bs-{batch_size}_lr-{lr}_ep-{epochs}'\n",
        "\n",
        "    # define callbacks\n",
        "    saved_weights = ModelCheckpoint(filepath=f'{COLAB_FILEPATH}models/{filename}.h5',save_best_only=True,verbose=1)\n",
        "    reduced_lr = ReduceLROnPlateau(monitor='val_loss', factor=0.01, patience=3, min_lr=1e-6, verbose=1)\n",
        "    early_stopping = EarlyStopping(monitor='val_loss', patience=5, restore_best_weights=True)\n",
        "    \n",
        "    # train model\n",
        "#     _, model = build_model(name)\n",
        "    model = pre_trained_model\n",
        "    H = model.fit(train_datagen.flow(Xtrain,ytrain,\n",
        "                                    batch_size=batch_size,\n",
        "                                    shuffle=True),\n",
        "                  epochs=epochs,\n",
        "                  steps_per_epoch=Xtrain.shape[0]//batch_size,\n",
        "                  validation_data=(Xval,yval),\n",
        "                  callbacks=[saved_weights, reduced_lr, early_stopping]\n",
        "              )\n",
        "    \n",
        "    return H, filename"
      ],
      "execution_count": null,
      "outputs": []
    },
    {
      "cell_type": "code",
      "metadata": {
        "id": "RZpZJDrz7lMZ"
      },
      "source": [
        "# Load Xception - because best model from previous example\n",
        "from tensorflow.keras.applications import Xception"
      ],
      "execution_count": null,
      "outputs": []
    },
    {
      "cell_type": "code",
      "metadata": {
        "id": "dCzYV-sE7xzZ"
      },
      "source": [
        "def build_model(name):\n",
        "    # pre-processing layer\n",
        "    input_layer = Input(INPUT_SHAPE)\n",
        "    preprocessor = Lambda(lambda x: x/255.0, name=\"preprocessor\")(input_layer)\n",
        "    # pre-trained model\n",
        "    if name == 'Xception':\n",
        "        model = Xception(include_top=False,weights=\"imagenet\", input_shape=INPUT_SHAPE)(preprocessor)\n",
        "    else:\n",
        "        raise Exception(\"Sorry, model not defined\")\n",
        "\n",
        "    # freeze pre-trained weight\n",
        "    model.trainable = True\n",
        "\n",
        "    # rebuild output layer\n",
        "    x = model\n",
        "    x = GlobalAveragePooling2D()(x)\n",
        "    head = Dense(120, activation='softmax')(x)\n",
        "\n",
        "    model = Model(inputs=input_layer, outputs=head)\n",
        "\n",
        "    # Compiling the model\n",
        "    model.compile(optimizer=OPTIMIZER, \n",
        "                  loss = 'categorical_crossentropy', \n",
        "                  metrics=['accuracy'])\n",
        "    return name, model"
      ],
      "execution_count": null,
      "outputs": []
    },
    {
      "cell_type": "code",
      "metadata": {
        "id": "nIWL9WFC8JNB"
      },
      "source": [
        ""
      ],
      "execution_count": null,
      "outputs": []
    },
    {
      "cell_type": "markdown",
      "metadata": {
        "id": "PDKxlfwW8KED"
      },
      "source": [
        "### Training the model"
      ]
    },
    {
      "cell_type": "code",
      "metadata": {
        "id": "95ctWHha8Lex"
      },
      "source": [
        "# hyperparameters configuration\n",
        "BATCH_SIZE = 64\n",
        "EPOCHS = 20\n",
        "ALPHA = 0.001\n",
        "OPTIMIZER = Adam(lr=ALPHA, beta_1=0.9, beta_2=0.999)"
      ],
      "execution_count": null,
      "outputs": []
    },
    {
      "cell_type": "code",
      "metadata": {
        "colab": {
          "base_uri": "https://localhost:8080/"
        },
        "id": "0YlqBm808Ox6",
        "outputId": "771e2131-43ab-470f-addb-d447c9f611db"
      },
      "source": [
        "# DenseNet121\n",
        "name, model = build_model('Xception')\n",
        "model.summary()"
      ],
      "execution_count": null,
      "outputs": [
        {
          "output_type": "stream",
          "text": [
            "Downloading data from https://storage.googleapis.com/tensorflow/keras-applications/xception/xception_weights_tf_dim_ordering_tf_kernels_notop.h5\n",
            "83689472/83683744 [==============================] - 0s 0us/step\n",
            "Model: \"model\"\n",
            "_________________________________________________________________\n",
            "Layer (type)                 Output Shape              Param #   \n",
            "=================================================================\n",
            "input_2 (InputLayer)         [(None, 224, 224, 3)]     0         \n",
            "_________________________________________________________________\n",
            "preprocessor (Lambda)        (None, 224, 224, 3)       0         \n",
            "_________________________________________________________________\n",
            "xception (Functional)        (None, 7, 7, 2048)        20861480  \n",
            "_________________________________________________________________\n",
            "global_average_pooling2d (Gl (None, 2048)              0         \n",
            "_________________________________________________________________\n",
            "dense (Dense)                (None, 120)               245880    \n",
            "=================================================================\n",
            "Total params: 21,107,360\n",
            "Trainable params: 21,052,832\n",
            "Non-trainable params: 54,528\n",
            "_________________________________________________________________\n"
          ],
          "name": "stdout"
        }
      ]
    },
    {
      "cell_type": "code",
      "metadata": {
        "colab": {
          "base_uri": "https://localhost:8080/"
        },
        "id": "ZtS5dUae8SBq",
        "outputId": "d89fc6e6-39a8-4221-d546-4af84418a6ce"
      },
      "source": [
        "H, filename = train_model(model_name=name,\n",
        "                          pre_trained_model=model,\n",
        "                          batch_size=BATCH_SIZE,\n",
        "                          epochs=EPOCHS,\n",
        "                          lr=ALPHA,\n",
        "                          optimizer=OPTIMIZER)"
      ],
      "execution_count": null,
      "outputs": [
        {
          "output_type": "stream",
          "text": [
            "Epoch 1/20\n",
            "127/127 [==============================] - 220s 1s/step - loss: 2.7225 - accuracy: 0.3785 - val_loss: 2.7648 - val_accuracy: 0.3438\n",
            "\n",
            "Epoch 00001: val_loss improved from inf to 2.76479, saving model to ./drive/My Drive/4041-dog-breed-classification/models/Xception_224x224_bs-64_lr-0.001_ep-20.h5\n",
            "Epoch 2/20\n",
            "127/127 [==============================] - 178s 1s/step - loss: 1.0165 - accuracy: 0.7004 - val_loss: 2.3867 - val_accuracy: 0.4103\n",
            "\n",
            "Epoch 00002: val_loss improved from 2.76479 to 2.38672, saving model to ./drive/My Drive/4041-dog-breed-classification/models/Xception_224x224_bs-64_lr-0.001_ep-20.h5\n",
            "Epoch 3/20\n",
            "127/127 [==============================] - 178s 1s/step - loss: 0.6742 - accuracy: 0.7928 - val_loss: 2.3013 - val_accuracy: 0.4499\n",
            "\n",
            "Epoch 00003: val_loss improved from 2.38672 to 2.30125, saving model to ./drive/My Drive/4041-dog-breed-classification/models/Xception_224x224_bs-64_lr-0.001_ep-20.h5\n",
            "Epoch 4/20\n",
            "127/127 [==============================] - 177s 1s/step - loss: 0.5186 - accuracy: 0.8370 - val_loss: 1.9953 - val_accuracy: 0.5051\n",
            "\n",
            "Epoch 00004: val_loss improved from 2.30125 to 1.99533, saving model to ./drive/My Drive/4041-dog-breed-classification/models/Xception_224x224_bs-64_lr-0.001_ep-20.h5\n",
            "Epoch 5/20\n",
            "127/127 [==============================] - 177s 1s/step - loss: 0.4417 - accuracy: 0.8566 - val_loss: 2.2204 - val_accuracy: 0.4641\n",
            "\n",
            "Epoch 00005: val_loss did not improve from 1.99533\n",
            "Epoch 6/20\n",
            "127/127 [==============================] - 178s 1s/step - loss: 0.3180 - accuracy: 0.8981 - val_loss: 2.0704 - val_accuracy: 0.5408\n",
            "\n",
            "Epoch 00006: val_loss did not improve from 1.99533\n",
            "Epoch 7/20\n",
            "127/127 [==============================] - 177s 1s/step - loss: 0.2993 - accuracy: 0.9082 - val_loss: 2.0515 - val_accuracy: 0.5545\n",
            "\n",
            "Epoch 00007: val_loss did not improve from 1.99533\n",
            "Epoch 8/20\n",
            "127/127 [==============================] - 177s 1s/step - loss: 0.2409 - accuracy: 0.9236 - val_loss: 2.1572 - val_accuracy: 0.5311\n",
            "\n",
            "Epoch 00008: val_loss did not improve from 1.99533\n",
            "Epoch 9/20\n",
            "127/127 [==============================] - 178s 1s/step - loss: 0.2685 - accuracy: 0.9178 - val_loss: 1.8985 - val_accuracy: 0.5795\n",
            "\n",
            "Epoch 00009: val_loss improved from 1.99533 to 1.89851, saving model to ./drive/My Drive/4041-dog-breed-classification/models/Xception_224x224_bs-64_lr-0.001_ep-20.h5\n",
            "Epoch 10/20\n",
            "127/127 [==============================] - 177s 1s/step - loss: 0.2042 - accuracy: 0.9325 - val_loss: 2.6559 - val_accuracy: 0.5037\n",
            "\n",
            "Epoch 00010: val_loss did not improve from 1.89851\n",
            "Epoch 11/20\n",
            "127/127 [==============================] - 178s 1s/step - loss: 0.1905 - accuracy: 0.9400 - val_loss: 2.3084 - val_accuracy: 0.5472\n",
            "\n",
            "Epoch 00011: val_loss did not improve from 1.89851\n",
            "Epoch 12/20\n",
            "127/127 [==============================] - 177s 1s/step - loss: 0.1636 - accuracy: 0.9508 - val_loss: 2.4260 - val_accuracy: 0.5418\n",
            "\n",
            "Epoch 00012: val_loss did not improve from 1.89851\n",
            "Epoch 13/20\n",
            "127/127 [==============================] - 178s 1s/step - loss: 0.1667 - accuracy: 0.9458 - val_loss: 2.5854 - val_accuracy: 0.5125\n",
            "\n",
            "Epoch 00013: val_loss did not improve from 1.89851\n",
            "Epoch 14/20\n",
            "127/127 [==============================] - 178s 1s/step - loss: 0.1814 - accuracy: 0.9445 - val_loss: 1.9745 - val_accuracy: 0.5702\n",
            "\n",
            "Epoch 00014: val_loss did not improve from 1.89851\n",
            "\n",
            "Epoch 00014: ReduceLROnPlateau reducing learning rate to 1.0000000474974514e-05.\n",
            "Epoch 15/20\n",
            "127/127 [==============================] - 178s 1s/step - loss: 0.1088 - accuracy: 0.9680 - val_loss: 1.5378 - val_accuracy: 0.6533\n",
            "\n",
            "Epoch 00015: val_loss improved from 1.89851 to 1.53782, saving model to ./drive/My Drive/4041-dog-breed-classification/models/Xception_224x224_bs-64_lr-0.001_ep-20.h5\n",
            "Epoch 16/20\n",
            "127/127 [==============================] - 178s 1s/step - loss: 0.0817 - accuracy: 0.9730 - val_loss: 1.4857 - val_accuracy: 0.6621\n",
            "\n",
            "Epoch 00016: val_loss improved from 1.53782 to 1.48573, saving model to ./drive/My Drive/4041-dog-breed-classification/models/Xception_224x224_bs-64_lr-0.001_ep-20.h5\n",
            "Epoch 17/20\n",
            "127/127 [==============================] - 177s 1s/step - loss: 0.0664 - accuracy: 0.9796 - val_loss: 1.4632 - val_accuracy: 0.6743\n",
            "\n",
            "Epoch 00017: val_loss improved from 1.48573 to 1.46316, saving model to ./drive/My Drive/4041-dog-breed-classification/models/Xception_224x224_bs-64_lr-0.001_ep-20.h5\n",
            "Epoch 18/20\n",
            "127/127 [==============================] - 177s 1s/step - loss: 0.0504 - accuracy: 0.9845 - val_loss: 1.4483 - val_accuracy: 0.6787\n",
            "\n",
            "Epoch 00018: val_loss improved from 1.46316 to 1.44829, saving model to ./drive/My Drive/4041-dog-breed-classification/models/Xception_224x224_bs-64_lr-0.001_ep-20.h5\n",
            "Epoch 19/20\n",
            "127/127 [==============================] - 177s 1s/step - loss: 0.0489 - accuracy: 0.9875 - val_loss: 1.4316 - val_accuracy: 0.6851\n",
            "\n",
            "Epoch 00019: val_loss improved from 1.44829 to 1.43159, saving model to ./drive/My Drive/4041-dog-breed-classification/models/Xception_224x224_bs-64_lr-0.001_ep-20.h5\n",
            "Epoch 20/20\n",
            "127/127 [==============================] - 177s 1s/step - loss: 0.0422 - accuracy: 0.9899 - val_loss: 1.4239 - val_accuracy: 0.6836\n",
            "\n",
            "Epoch 00020: val_loss improved from 1.43159 to 1.42386, saving model to ./drive/My Drive/4041-dog-breed-classification/models/Xception_224x224_bs-64_lr-0.001_ep-20.h5\n"
          ],
          "name": "stdout"
        }
      ]
    },
    {
      "cell_type": "code",
      "metadata": {
        "colab": {
          "base_uri": "https://localhost:8080/",
          "height": 353
        },
        "id": "weuWZHgi8jnJ",
        "outputId": "19cb53b9-4686-4ec0-cccd-6342edb5152b"
      },
      "source": [
        "# plot model performance\n",
        "plot_model_history(H, saving_name=filename)"
      ],
      "execution_count": null,
      "outputs": [
        {
          "output_type": "display_data",
          "data": {
            "image/png": "[encoded data removed]",
            "text/plain": [
              "<Figure size 1152x432 with 2 Axes>"
            ]
          },
          "metadata": {
            "tags": []
          }
        }
      ]
    },
    {
      "cell_type": "code",
      "metadata": {
        "id": "XklUAny9HgYw"
      },
      "source": [
        ""
      ],
      "execution_count": null,
      "outputs": []
    }
  ]
}